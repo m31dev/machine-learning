{
 "cells": [
  {
   "cell_type": "markdown",
   "id": "722369d8-a017-49db-9d28-e83da496e1e8",
   "metadata": {},
   "source": [
    "## Performing Arithmetic Operations In Python"
   ]
  },
  {
   "cell_type": "code",
   "execution_count": 3,
   "id": "ea6dd38f-5503-4567-9b2f-8002cdccacfb",
   "metadata": {},
   "outputs": [
    {
     "data": {
      "text/plain": [
       "8"
      ]
     },
     "execution_count": 3,
     "metadata": {},
     "output_type": "execute_result"
    }
   ],
   "source": [
    "#Addition\n",
    "2+3\n",
    "#Subtraction\n",
    "3-2\n",
    "#Division\n",
    "4/2\n",
    "#Multiplication\n",
    "2*3\n",
    "#Exponent\n",
    "2**3"
   ]
  },
  {
   "cell_type": "markdown",
   "id": "91bd6279-1a13-4092-bf91-b650557c667e",
   "metadata": {},
   "source": [
    "### Problem Set One"
   ]
  },
  {
   "cell_type": "code",
   "execution_count": 6,
   "id": "c12e39ea-2ce3-4a99-a3b8-6c8650dd1ed3",
   "metadata": {},
   "outputs": [
    {
     "data": {
      "text/plain": [
       "125.0"
      ]
     },
     "execution_count": 6,
     "metadata": {},
     "output_type": "execute_result"
    }
   ],
   "source": [
    "cost_of_ice = 1.25\n",
    "profit = 0.2\n",
    "number_of_bags = 500\n",
    "profit_per_bag = 1.25*0.2\n",
    "total = number_of_bags * profit_per_bag\n",
    "total\n"
   ]
  }
 ],
 "metadata": {
  "kernelspec": {
   "display_name": "Python 3 (ipykernel)",
   "language": "python",
   "name": "python3"
  },
  "language_info": {
   "codemirror_mode": {
    "name": "ipython",
    "version": 3
   },
   "file_extension": ".py",
   "mimetype": "text/x-python",
   "name": "python",
   "nbconvert_exporter": "python",
   "pygments_lexer": "ipython3",
   "version": "3.11.8"
  }
 },
 "nbformat": 4,
 "nbformat_minor": 5
}
