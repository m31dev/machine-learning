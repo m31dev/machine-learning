{
 "cells": [
  {
   "cell_type": "markdown",
   "id": "722369d8-a017-49db-9d28-e83da496e1e8",
   "metadata": {},
   "source": [
    "## Performing Arithmetic Operations In Python"
   ]
  },
  {
   "cell_type": "code",
   "execution_count": 3,
   "id": "ea6dd38f-5503-4567-9b2f-8002cdccacfb",
   "metadata": {},
   "outputs": [
    {
     "data": {
      "text/plain": [
       "8"
      ]
     },
     "execution_count": 3,
     "metadata": {},
     "output_type": "execute_result"
    }
   ],
   "source": [
    "# Addition\n",
    "2+3\n",
    "\n",
    "# Subtraction\n",
    "3-2\n",
    "\n",
    "# Division\n",
    "4/2\n",
    "\n",
    "# Multiplication\n",
    "2*3\n",
    "\n",
    "# Exponent\n",
    "2**3"
   ]
  },
  {
   "cell_type": "markdown",
   "id": "91bd6279-1a13-4092-bf91-b650557c667e",
   "metadata": {},
   "source": [
    "### Problem Set One"
   ]
  },
  {
   "cell_type": "code",
   "execution_count": 6,
   "id": "c12e39ea-2ce3-4a99-a3b8-6c8650dd1ed3",
   "metadata": {},
   "outputs": [
    {
     "data": {
      "text/plain": [
       "125.0"
      ]
     },
     "execution_count": 6,
     "metadata": {},
     "output_type": "execute_result"
    }
   ],
   "source": [
    "cost_of_ice = 1.25\n",
    "profit = 0.2\n",
    "number_of_bags = 500\n",
    "profit_per_bag = 1.25*0.2\n",
    "total = number_of_bags * profit_per_bag\n",
    "total\n"
   ]
  },
  {
   "cell_type": "markdown",
   "id": "ecc38eec-e4bb-46ca-a66a-3f1b7d25be88",
   "metadata": {},
   "source": [
    "### Variables"
   ]
  },
  {
   "cell_type": "raw",
   "id": "716973a7-628b-4a4e-a4e3-123f687e51bc",
   "metadata": {},
   "source": [
    "Variables are like containers for storing values"
   ]
  },
  {
   "cell_type": "code",
   "execution_count": 8,
   "id": "85207c36-1e7e-4640-a340-9c6f8dc350e2",
   "metadata": {},
   "outputs": [
    {
     "data": {
      "text/plain": [
       "'John'"
      ]
     },
     "execution_count": 8,
     "metadata": {},
     "output_type": "execute_result"
    }
   ],
   "source": [
    "# Eg\n",
    "name = \"John\"\n",
    "name"
   ]
  },
  {
   "cell_type": "markdown",
   "id": "cda5a0f6-2495-4785-8900-17537cd4d770",
   "metadata": {},
   "source": [
    "### Functions"
   ]
  },
  {
   "cell_type": "raw",
   "id": "4bbd86ad-e160-4259-86ea-2645b4b4fcd5",
   "metadata": {},
   "source": [
    "A set of reusable code\n",
    "Python for instance has a built in function called the print() function which displays the result"
   ]
  },
  {
   "cell_type": "code",
   "execution_count": 9,
   "id": "2effc82c-a0f4-4f65-85b1-3dad5042a788",
   "metadata": {},
   "outputs": [
    {
     "name": "stdout",
     "output_type": "stream",
     "text": [
      "John\n"
     ]
    }
   ],
   "source": [
    "#Eg\n",
    "\n",
    "name = \"John\"\n",
    "print(name)"
   ]
  },
  {
   "cell_type": "markdown",
   "id": "5e20c89f-99e7-4f7c-91f5-0c1c367bbf8f",
   "metadata": {},
   "source": [
    "### Comparison Operators"
   ]
  },
  {
   "cell_type": "code",
   "execution_count": 11,
   "id": "eb7926f8-0701-4b15-8ce5-52b033b3bb0b",
   "metadata": {},
   "outputs": [
    {
     "name": "stdout",
     "output_type": "stream",
     "text": [
      "False\n"
     ]
    }
   ],
   "source": [
    "\"\"\"\n",
    "Comparison operators are used to compare variables in python.\n",
    "We have the equal to operator (==) which compares two variables to see if they are the same\n",
    "and then returns a boolean.\n",
    "We also have the Not equal to operator (!=) which does the opposite of the equal to operator.\n",
    "\"\"\"\n",
    "#Eg\n",
    "\n",
    "my_num = 1\n",
    "your_num = 2\n",
    "\n",
    "print(my_num == your_num)\n",
    "\n",
    "\"\"\"\n",
    "There are several comparison operators. Eg The greater than operator (>),the less than operator(<)\n",
    "less than or equal to(<=) and greater than or equal to\n",
    "\"\"\"\n"
   ]
  }
 ],
 "metadata": {
  "kernelspec": {
   "display_name": "Python 3 (ipykernel)",
   "language": "python",
   "name": "python3"
  },
  "language_info": {
   "codemirror_mode": {
    "name": "ipython",
    "version": 3
   },
   "file_extension": ".py",
   "mimetype": "text/x-python",
   "name": "python",
   "nbconvert_exporter": "python",
   "pygments_lexer": "ipython3",
   "version": "3.11.8"
  }
 },
 "nbformat": 4,
 "nbformat_minor": 5
}
